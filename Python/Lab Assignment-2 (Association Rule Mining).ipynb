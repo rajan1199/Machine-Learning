{
 "cells": [
  {
   "cell_type": "markdown",
   "metadata": {},
   "source": [
    "# 2.2 Implementation of Association Rule Mining in Python"
   ]
  },
  {
   "cell_type": "markdown",
   "metadata": {},
   "source": [
    "## 2.2.1 Create dataframe for the given data:\n",
    "## A database has five transactions. Let min_sup = 60% and min_conf = 80%.\n",
    "### &emsp; Transaction_ID &emsp;   Items_Bought\n",
    "- ### T100 &emsp;&emsp;&emsp;&emsp;&emsp; {M, O, N, K, E, Y}\n",
    "- ### T200 &emsp;&emsp;&emsp;&emsp;&emsp; {D, O, N, K, E, Y}\n",
    "- ### T300 &emsp;&emsp;&emsp;&emsp;&emsp; {M, A, K, E}\n",
    "- ### T400 &emsp;&emsp;&emsp;&emsp;&emsp; {M, U, C, K, Y}\n",
    "- ### T500 &emsp;&emsp;&emsp;&emsp;&emsp; {C, O, O, K, I, E}"
   ]
  },
  {
   "cell_type": "code",
   "execution_count": 1,
   "metadata": {},
   "outputs": [],
   "source": [
    "# Importing libraries \n",
    "import numpy as np\n",
    "import pandas as pd"
   ]
  },
  {
   "cell_type": "code",
   "execution_count": 2,
   "metadata": {},
   "outputs": [
    {
     "name": "stdout",
     "output_type": "stream",
     "text": [
      "      0  1  2  3     4     5\n",
      "T100  M  O  N  K     E     Y\n",
      "T200  D  O  N  K     E     Y\n",
      "T300  M  A  K  E  None  None\n",
      "T400  M  U  C  K     Y  None\n",
      "T500  C  O  O  K     I     E\n"
     ]
    }
   ],
   "source": [
    "data = [['M', 'O', 'N', 'K', 'E', 'Y'], ['D', 'O', 'N', 'K', 'E', 'Y'], ['M', 'A', 'K', 'E'],\n",
    "                ['M', 'U', 'C', 'K', 'Y'], ['C', 'O', 'O', 'K', 'I', 'E']]\n",
    "myDF= pd.DataFrame(data, index = ['T100', 'T200', 'T300', 'T400', 'T500'])\n",
    "print(myDF)"
   ]
  },
  {
   "cell_type": "code",
   "execution_count": 3,
   "metadata": {},
   "outputs": [
    {
     "name": "stdout",
     "output_type": "stream",
     "text": [
      "(5, 6)\n"
     ]
    }
   ],
   "source": [
    "print(myDF.shape)"
   ]
  },
  {
   "cell_type": "markdown",
   "metadata": {},
   "source": [
    "<br><br><br>"
   ]
  },
  {
   "cell_type": "markdown",
   "metadata": {},
   "source": [
    "## 2.2.2 Write a program to implement Apriori algorithm on the given database to mine frequent itemset and association rules."
   ]
  },
  {
   "cell_type": "code",
   "execution_count": 4,
   "metadata": {},
   "outputs": [
    {
     "name": "stdout",
     "output_type": "stream",
     "text": [
      "Requirement already satisfied: apyori in c:\\users\\asus\\anaconda3\\lib\\site-packages (1.1.2)\n",
      "Note: you may need to restart the kernel to use updated packages.\n"
     ]
    }
   ],
   "source": [
    "pip install apyori"
   ]
  },
  {
   "cell_type": "code",
   "execution_count": 5,
   "metadata": {},
   "outputs": [],
   "source": [
    "from apyori import apriori"
   ]
  },
  {
   "cell_type": "code",
   "execution_count": 6,
   "metadata": {},
   "outputs": [
    {
     "data": {
      "text/plain": [
       "[RelationRecord(items=frozenset({'E'}), support=0.8, ordered_statistics=[OrderedStatistic(items_base=frozenset(), items_add=frozenset({'E'}), confidence=0.8, lift=1.0)]),\n",
       " RelationRecord(items=frozenset({'K'}), support=1.0, ordered_statistics=[OrderedStatistic(items_base=frozenset(), items_add=frozenset({'K'}), confidence=1.0, lift=1.0)]),\n",
       " RelationRecord(items=frozenset({'M'}), support=0.6, ordered_statistics=[OrderedStatistic(items_base=frozenset(), items_add=frozenset({'M'}), confidence=0.6, lift=1.0)]),\n",
       " RelationRecord(items=frozenset({'O'}), support=0.6, ordered_statistics=[OrderedStatistic(items_base=frozenset(), items_add=frozenset({'O'}), confidence=0.6, lift=1.0)]),\n",
       " RelationRecord(items=frozenset({'Y'}), support=0.6, ordered_statistics=[OrderedStatistic(items_base=frozenset(), items_add=frozenset({'Y'}), confidence=0.6, lift=1.0)])]"
      ]
     },
     "execution_count": 6,
     "metadata": {},
     "output_type": "execute_result"
    }
   ],
   "source": [
    "# Getting frequent one itemset\n",
    "oneItemSet = list(apriori(data,min_support=0.6,max_length=1))\n",
    "oneItemSet"
   ]
  },
  {
   "cell_type": "code",
   "execution_count": 7,
   "metadata": {},
   "outputs": [
    {
     "data": {
      "text/plain": [
       "[RelationRecord(items=frozenset({'E'}), support=0.8, ordered_statistics=[OrderedStatistic(items_base=frozenset(), items_add=frozenset({'E'}), confidence=0.8, lift=1.0)]),\n",
       " RelationRecord(items=frozenset({'K'}), support=1.0, ordered_statistics=[OrderedStatistic(items_base=frozenset(), items_add=frozenset({'K'}), confidence=1.0, lift=1.0)]),\n",
       " RelationRecord(items=frozenset({'K', 'E'}), support=0.8, ordered_statistics=[OrderedStatistic(items_base=frozenset(), items_add=frozenset({'K', 'E'}), confidence=0.8, lift=1.0), OrderedStatistic(items_base=frozenset({'E'}), items_add=frozenset({'K'}), confidence=1.0, lift=1.0), OrderedStatistic(items_base=frozenset({'K'}), items_add=frozenset({'E'}), confidence=0.8, lift=1.0)]),\n",
       " RelationRecord(items=frozenset({'O', 'E'}), support=0.6, ordered_statistics=[OrderedStatistic(items_base=frozenset({'O'}), items_add=frozenset({'E'}), confidence=1.0, lift=1.25)]),\n",
       " RelationRecord(items=frozenset({'K', 'M'}), support=0.6, ordered_statistics=[OrderedStatistic(items_base=frozenset({'M'}), items_add=frozenset({'K'}), confidence=1.0, lift=1.0)]),\n",
       " RelationRecord(items=frozenset({'K', 'O'}), support=0.6, ordered_statistics=[OrderedStatistic(items_base=frozenset({'O'}), items_add=frozenset({'K'}), confidence=1.0, lift=1.0)]),\n",
       " RelationRecord(items=frozenset({'K', 'Y'}), support=0.6, ordered_statistics=[OrderedStatistic(items_base=frozenset({'Y'}), items_add=frozenset({'K'}), confidence=1.0, lift=1.0)]),\n",
       " RelationRecord(items=frozenset({'K', 'O', 'E'}), support=0.6, ordered_statistics=[OrderedStatistic(items_base=frozenset({'O'}), items_add=frozenset({'K', 'E'}), confidence=1.0, lift=1.25), OrderedStatistic(items_base=frozenset({'O', 'E'}), items_add=frozenset({'K'}), confidence=1.0, lift=1.0), OrderedStatistic(items_base=frozenset({'K', 'O'}), items_add=frozenset({'E'}), confidence=1.0, lift=1.25)])]"
      ]
     },
     "execution_count": 7,
     "metadata": {},
     "output_type": "execute_result"
    }
   ],
   "source": [
    "# Getting frequent two itemset\n",
    "twoItemSet = list(apriori(data,min_support=0.6,min_confidence=0.8,min_length=2))\n",
    "twoItemSet"
   ]
  },
  {
   "cell_type": "code",
   "execution_count": 8,
   "metadata": {},
   "outputs": [],
   "source": [
    "# Generating apriori model\n",
    "oneItemSet = list(apriori(data,min_support=0.6,max_length=1))\n",
    "twoItemSet = list(apriori(data,min_support=0.6,min_confidence=0.8,min_length=2))"
   ]
  },
  {
   "cell_type": "code",
   "execution_count": 9,
   "metadata": {},
   "outputs": [
    {
     "name": "stdout",
     "output_type": "stream",
     "text": [
      "No. of rules:  11\n"
     ]
    }
   ],
   "source": [
    "# Putting all the rules in a list\n",
    "final_rules = []\n",
    "for item in oneItemSet:\n",
    "    final_rules.append(item)\n",
    "for item in twoItemSet:\n",
    "    if item not in oneItemSet:\n",
    "         final_rules.append(item)\n",
    "            \n",
    "print(\"No. of rules: \", len(final_rules))\n"
   ]
  },
  {
   "cell_type": "code",
   "execution_count": 10,
   "metadata": {},
   "outputs": [
    {
     "name": "stdout",
     "output_type": "stream",
     "text": [
      "Association Rules: \n",
      "\n",
      "Rule: E\n",
      "Support: 0.8\n",
      "Confidence: 0.8\n",
      "Lift: 1.0\n",
      "*********************************\n",
      "\n",
      "Rule: K\n",
      "Support: 1.0\n",
      "Confidence: 1.0\n",
      "Lift: 1.0\n",
      "*********************************\n",
      "\n",
      "Rule: M\n",
      "Support: 0.6\n",
      "Confidence: 0.6\n",
      "Lift: 1.0\n",
      "*********************************\n",
      "\n",
      "Rule: O\n",
      "Support: 0.6\n",
      "Confidence: 0.6\n",
      "Lift: 1.0\n",
      "*********************************\n",
      "\n",
      "Rule: Y\n",
      "Support: 0.6\n",
      "Confidence: 0.6\n",
      "Lift: 1.0\n",
      "*********************************\n",
      "\n",
      "Rule: K -> E\n",
      "Support: 0.8\n",
      "Confidence: 0.8\n",
      "Lift: 1.0\n",
      "*********************************\n",
      "\n",
      "Rule: O -> E\n",
      "Support: 0.6\n",
      "Confidence: 1.0\n",
      "Lift: 1.25\n",
      "*********************************\n",
      "\n",
      "Rule: K -> M\n",
      "Support: 0.6\n",
      "Confidence: 1.0\n",
      "Lift: 1.0\n",
      "*********************************\n",
      "\n",
      "Rule: K -> O\n",
      "Support: 0.6\n",
      "Confidence: 1.0\n",
      "Lift: 1.0\n",
      "*********************************\n",
      "\n",
      "Rule: K -> Y\n",
      "Support: 0.6\n",
      "Confidence: 1.0\n",
      "Lift: 1.0\n",
      "*********************************\n",
      "\n",
      "Rule: K O -> E\n",
      "Support: 0.6\n",
      "Confidence: 1.0\n",
      "Lift: 1.25\n",
      "*********************************\n"
     ]
    }
   ],
   "source": [
    "print(\"Association Rules: \")\n",
    "#printing all association rules in order\n",
    "for item in final_rules:\n",
    "     pair = item[0]\n",
    "     items = [x for x in pair]\n",
    "     print(\"\\nRule: \", end='' )\n",
    "     for i in range(0,len(items)-1) :\n",
    "         print(items[i], end=\" \")\n",
    "     if(len(items)!=1):\n",
    "         print(\"-> \" + items[len(items)-1])\n",
    "     else:\n",
    "         print(items[len(items)-1])\n",
    "     print(\"Support: \" + str(item[1]))\n",
    "     print(\"Confidence: \" + str(item[2][0][2]))\n",
    "     print(\"Lift: \" + str(item[2][0][3]))\n",
    "     print(\"*********************************\")"
   ]
  },
  {
   "cell_type": "markdown",
   "metadata": {},
   "source": [
    "## 2.2.3 Write a program to implement Frequent Pattern Growth- algorithm (FP-growth algorithm) on the given database to mine frequent itemset and association rules."
   ]
  },
  {
   "cell_type": "code",
   "execution_count": 11,
   "metadata": {},
   "outputs": [
    {
     "name": "stdout",
     "output_type": "stream",
     "text": [
      "Requirement already satisfied: pyfpgrowth in c:\\users\\asus\\anaconda3\\lib\\site-packages (1.0)\n",
      "Note: you may need to restart the kernel to use updated packages.\n"
     ]
    }
   ],
   "source": [
    "pip install pyfpgrowth"
   ]
  },
  {
   "cell_type": "code",
   "execution_count": 12,
   "metadata": {},
   "outputs": [
    {
     "name": "stdout",
     "output_type": "stream",
     "text": [
      "Patterns: \n"
     ]
    },
    {
     "data": {
      "text/plain": [
       "{('M',): 3,\n",
       " ('K', 'M'): 3,\n",
       " ('Y',): 3,\n",
       " ('K', 'Y'): 3,\n",
       " ('O',): 4,\n",
       " ('K', 'O'): 4,\n",
       " ('E', 'O'): 4,\n",
       " ('E', 'K'): 4,\n",
       " ('E', 'K', 'O'): 4,\n",
       " ('K',): 5}"
      ]
     },
     "execution_count": 12,
     "metadata": {},
     "output_type": "execute_result"
    }
   ],
   "source": [
    "import pyfpgrowth as fp\n",
    "\n",
    "\"\"\"\n",
    "data = [['M', 'O', 'N', 'K', 'E', 'Y'], ['D', 'O', 'N', 'K', 'E', 'Y'], ['M', 'A', 'K', 'E'],\n",
    "                ['M', 'U', 'C', 'K', 'Y'], ['C', 'O', 'O', 'K', 'I', 'E']]\n",
    "\"\"\"\n",
    "# min_support = threshold support * no. of transactions = 0.6 * 5 = 3\n",
    "# Finding patterns\n",
    "patterns = fp.find_frequent_patterns(data, 3)\n",
    "print(\"Patterns: \")\n",
    "patterns"
   ]
  },
  {
   "cell_type": "code",
   "execution_count": 13,
   "metadata": {},
   "outputs": [
    {
     "name": "stdout",
     "output_type": "stream",
     "text": [
      "\n",
      "Rules: \n"
     ]
    },
    {
     "data": {
      "text/plain": [
       "{('M',): (('K',), 1.0),\n",
       " ('Y',): (('K',), 1.0),\n",
       " ('K',): (('E', 'O'), 0.8),\n",
       " ('O',): (('E', 'K'), 1.0),\n",
       " ('E', 'K'): (('O',), 1.0),\n",
       " ('E', 'O'): (('K',), 1.0),\n",
       " ('K', 'O'): (('E',), 1.0)}"
      ]
     },
     "execution_count": 13,
     "metadata": {},
     "output_type": "execute_result"
    }
   ],
   "source": [
    "# min_confidence = 0.8\n",
    "# Finding rules\n",
    "rules = fp.generate_association_rules(patterns,0.8)\n",
    "print(\"\\nRules: \")\n",
    "rules"
   ]
  },
  {
   "cell_type": "markdown",
   "metadata": {},
   "source": [
    "## End of Notebook"
   ]
  }
 ],
 "metadata": {
  "kernelspec": {
   "display_name": "Python 3",
   "language": "python",
   "name": "python3"
  },
  "language_info": {
   "codemirror_mode": {
    "name": "ipython",
    "version": 3
   },
   "file_extension": ".py",
   "mimetype": "text/x-python",
   "name": "python",
   "nbconvert_exporter": "python",
   "pygments_lexer": "ipython3",
   "version": "3.7.4"
  }
 },
 "nbformat": 4,
 "nbformat_minor": 2
}
